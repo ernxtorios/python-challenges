{
  "nbformat": 4,
  "nbformat_minor": 0,
  "metadata": {
    "colab": {
      "provenance": [],
      "authorship_tag": "ABX9TyODyPzDpJIvxSJg2giPofLz",
      "include_colab_link": true
    },
    "kernelspec": {
      "name": "python3",
      "display_name": "Python 3"
    },
    "language_info": {
      "name": "python"
    }
  },
  "cells": [
    {
      "cell_type": "markdown",
      "metadata": {
        "id": "view-in-github",
        "colab_type": "text"
      },
      "source": [
        "<a href=\"https://colab.research.google.com/github/ernxtorios/python-challenges/blob/main/eliminar_duplicados.ipynb\" target=\"_parent\"><img src=\"https://colab.research.google.com/assets/colab-badge.svg\" alt=\"Open In Colab\"/></a>"
      ]
    },
    {
      "cell_type": "markdown",
      "source": [
        "\n",
        "\n",
        "> # ¿Necesita eliminar elementos duplicados en una lista?\n",
        "\n"
      ],
      "metadata": {
        "id": "hJZxAnaKTjtX"
      }
    },
    {
      "cell_type": "code",
      "execution_count": null,
      "metadata": {
        "id": "PRaGYornTSe8"
      },
      "outputs": [],
      "source": [
        "my_items = [\"duck\", \"mouse\", \"duck\", \"computer\"]"
      ]
    },
    {
      "cell_type": "markdown",
      "source": [
        "Si no te importa mantener el orden de tus elementos, puedes usar el constructor de conjuntos integrado:"
      ],
      "metadata": {
        "id": "UgyY67kkTwHy"
      }
    },
    {
      "cell_type": "code",
      "source": [
        "unique_items = set(my_items)\n",
        "unique_items"
      ],
      "metadata": {
        "colab": {
          "base_uri": "https://localhost:8080/"
        },
        "id": "fTrbQz0dTe0y",
        "outputId": "164f0949-db7e-40c4-a64e-c024f05ccee5"
      },
      "execution_count": null,
      "outputs": [
        {
          "output_type": "execute_result",
          "data": {
            "text/plain": [
              "{'computer', 'duck', 'mouse'}"
            ]
          },
          "metadata": {},
          "execution_count": 5
        }
      ]
    },
    {
      "cell_type": "markdown",
      "source": [
        "Si te importa mantener el orden de tus elementos, puedes usar el método fromkeys de la clase dict junto con el constructor de lista incorporado:"
      ],
      "metadata": {
        "id": "9oYJGZAnUE3E"
      }
    },
    {
      "cell_type": "code",
      "source": [
        "unique_items = list(dict.fromkeys(my_items))\n",
        "unique_items"
      ],
      "metadata": {
        "colab": {
          "base_uri": "https://localhost:8080/"
        },
        "id": "ZWGDS7pBUJvX",
        "outputId": "be93b6b2-f126-4a27-ac97-25c02a53bca6"
      },
      "execution_count": null,
      "outputs": [
        {
          "output_type": "execute_result",
          "data": {
            "text/plain": [
              "['duck', 'mouse', 'computer']"
            ]
          },
          "metadata": {},
          "execution_count": 6
        }
      ]
    },
    {
      "cell_type": "markdown",
      "source": [
        "Tenga en cuenta que estas dos técnicas sólo funcionan con números, cadenas u otros objetos con hashes."
      ],
      "metadata": {
        "id": "Up_SSw8jUeON"
      }
    },
    {
      "cell_type": "markdown",
      "source": [
        "Fuente: https://www.pythonmorsels.com/deduplicate-lists/?utm_source=drip&utm_medium=email&utm_campaign=weekly+email+-+2025-04-16&utm_content=Weekly+Python+tip%3A+use+sets+for+de-duplication"
      ],
      "metadata": {
        "id": "furWQm8bVTcO"
      }
    },
    {
      "cell_type": "markdown",
      "source": [
        "## Ejercicio"
      ],
      "metadata": {
        "id": "LE4Gz07Avpsh"
      }
    },
    {
      "cell_type": "markdown",
      "source": [
        "¿Necesita eliminar duplicados de una lista de elementos?"
      ],
      "metadata": {
        "id": "j3CfQK4_wBpM"
      }
    },
    {
      "cell_type": "code",
      "source": [
        "all_colors = [\"blue\", \"purple\", \"green\", \"red\", \"green\", \"pink\", \"blue\"]"
      ],
      "metadata": {
        "id": "zWZEwf8EvvFA"
      },
      "execution_count": null,
      "outputs": []
    },
    {
      "cell_type": "markdown",
      "source": [
        "## ¿Cómo se puede hacer esto en Python?\n",
        "\n",
        "Veamos dos enfoques para la deduplicación: uno cuando no nos importa el orden de los elementos y otro cuando sí.\n",
        "\n",
        "## Usar un conjunto para desduplicar\n",
        "Puede usar el constructor de conjuntos integrado para desduplicar los elementos de una lista (o de cualquier iterable):"
      ],
      "metadata": {
        "id": "r-cQleBCwCFD"
      }
    },
    {
      "cell_type": "code",
      "source": [
        "unique_colors = set(all_colors)\n",
        "unique_colors"
      ],
      "metadata": {
        "colab": {
          "base_uri": "https://localhost:8080/"
        },
        "id": "azmqLRe_wSSp",
        "outputId": "e51d50c9-2b3b-431b-f03b-c5ddb7a9c94f"
      },
      "execution_count": null,
      "outputs": [
        {
          "output_type": "execute_result",
          "data": {
            "text/plain": [
              "{'blue', 'green', 'pink', 'purple', 'red'}"
            ]
          },
          "metadata": {},
          "execution_count": 8
        }
      ]
    },
    {
      "cell_type": "markdown",
      "source": [
        "Esto solo funciona con listas de valores hash, pero incluye bastantes valores: cadenas, números y la mayoría de las tuplas son hashables en Python.\n",
        "\n",
        "Quizás hayas notado que el orden de los elementos originales se perdió al convertirlos en un conjunto:"
      ],
      "metadata": {
        "id": "hfmpIb_iw5w6"
      }
    },
    {
      "cell_type": "code",
      "source": [
        "print(all_colors)\n",
        "\n",
        "print(unique_colors)"
      ],
      "metadata": {
        "colab": {
          "base_uri": "https://localhost:8080/"
        },
        "id": "-j5CD9Wbw4jk",
        "outputId": "1f484191-af47-4cd1-f457-80bd868c235b"
      },
      "execution_count": null,
      "outputs": [
        {
          "output_type": "stream",
          "name": "stdout",
          "text": [
            "['blue', 'purple', 'green', 'red', 'green', 'pink', 'blue']\n",
            "{'blue', 'purple', 'green', 'red', 'pink'}\n"
          ]
        }
      ]
    },
    {
      "cell_type": "markdown",
      "source": [
        "Incluso si volvemos a convertir los elementos a una lista, ese orden original no se mantendrá:"
      ],
      "metadata": {
        "id": "ZTFIa16sxSLv"
      }
    },
    {
      "cell_type": "code",
      "source": [
        "unique_colors = list(set(all_colors))\n",
        "unique_colors"
      ],
      "metadata": {
        "colab": {
          "base_uri": "https://localhost:8080/"
        },
        "id": "1B5aEPmrxXg3",
        "outputId": "9529e9d1-6043-473e-a01d-2060c94aeb8a"
      },
      "execution_count": null,
      "outputs": [
        {
          "output_type": "execute_result",
          "data": {
            "text/plain": [
              "['blue', 'purple', 'green', 'red', 'pink']"
            ]
          },
          "metadata": {},
          "execution_count": 12
        }
      ]
    },
    {
      "cell_type": "markdown",
      "source": [
        "## Desduplicación sin perder el orden\n",
        "Para desduplicar manteniendo el orden relativo de los elementos, podemos usar dict.fromkeys"
      ],
      "metadata": {
        "id": "bJkeYt_qxo97"
      }
    },
    {
      "cell_type": "code",
      "source": [
        "unique_colors = dict.fromkeys(all_colors)\n",
        "unique_colors"
      ],
      "metadata": {
        "colab": {
          "base_uri": "https://localhost:8080/"
        },
        "id": "JlS0YauzxsKU",
        "outputId": "76659821-fcea-4c84-f191-8a9066f2711b"
      },
      "execution_count": null,
      "outputs": [
        {
          "output_type": "execute_result",
          "data": {
            "text/plain": [
              "{'blue': None, 'purple': None, 'green': None, 'red': None, 'pink': None}"
            ]
          },
          "metadata": {},
          "execution_count": 13
        }
      ]
    },
    {
      "cell_type": "markdown",
      "source": [
        "La clase dict de Python tiene un método de clase `fromkeys` que acepta un iterable y crea un nuevo diccionario cuyas claves son los elementos del iterable dado.\n",
        "\n",
        "Como los diccionarios no pueden tener claves duplicadas, esto también desduplica los elementos dados. Los diccionarios también mantienen el orden de sus elementos (a partir de Python 3.6), por lo que el diccionario resultante tendrá sus claves ordenadas según la primera vez que se vio cada valor.\n",
        "\n",
        "Bien, ya tenemos un diccionario, pero ¿cómo podemos usarlo?\n",
        "\n",
        "Bueno, los diccionarios tienen un método `keys` que podemos usar para obtener un iterable solo con las claves:"
      ],
      "metadata": {
        "id": "aLXSDbhUx9JL"
      }
    },
    {
      "cell_type": "code",
      "source": [
        "unique_colors = dict.fromkeys(all_colors).keys()\n",
        "unique_colors"
      ],
      "metadata": {
        "colab": {
          "base_uri": "https://localhost:8080/"
        },
        "id": "l-ewfJVZyGMH",
        "outputId": "7115de9c-05e2-4f1d-a3d5-f803d3c444c1"
      },
      "execution_count": null,
      "outputs": [
        {
          "output_type": "execute_result",
          "data": {
            "text/plain": [
              "dict_keys(['blue', 'purple', 'green', 'red', 'pink'])"
            ]
          },
          "metadata": {},
          "execution_count": 14
        }
      ]
    },
    {
      "cell_type": "markdown",
      "source": [
        "E incluso podríamos convertir esas claves en una lista:"
      ],
      "metadata": {
        "id": "1gJVDWlGyO4A"
      }
    },
    {
      "cell_type": "code",
      "source": [
        "unique_colors = list(dict.fromkeys(all_colors).keys())\n",
        "unique_colors"
      ],
      "metadata": {
        "colab": {
          "base_uri": "https://localhost:8080/"
        },
        "id": "Q1C7CAYYyUIi",
        "outputId": "100e3b35-9876-4993-fe1b-eb7003461efa"
      },
      "execution_count": null,
      "outputs": [
        {
          "output_type": "execute_result",
          "data": {
            "text/plain": [
              "['blue', 'purple', 'green', 'red', 'pink']"
            ]
          },
          "metadata": {},
          "execution_count": 15
        }
      ]
    },
    {
      "cell_type": "markdown",
      "source": [
        "Pero los diccionarios también son iterables (recorrer un diccionario proporciona las claves), por lo que podríamos simplemente pasar el diccionario al constructor de lista incorporado:"
      ],
      "metadata": {
        "id": "jKkplCxIyiXw"
      }
    },
    {
      "cell_type": "code",
      "source": [
        "unique_colors = list(dict.fromkeys(all_colors))\n",
        "unique_colors"
      ],
      "metadata": {
        "colab": {
          "base_uri": "https://localhost:8080/"
        },
        "id": "3TFs0Bp_yno2",
        "outputId": "2ae4fe02-6ceb-4216-9821-8ffb59ce2b13"
      },
      "execution_count": null,
      "outputs": [
        {
          "output_type": "execute_result",
          "data": {
            "text/plain": [
              "['blue', 'purple', 'green', 'red', 'pink']"
            ]
          },
          "metadata": {},
          "execution_count": 16
        }
      ]
    },
    {
      "cell_type": "markdown",
      "source": [
        "Puede parecer un poco extraño, pero funciona.\n",
        "\n",
        "Si prefieres ser más explícito llamando al método keys, puedes hacerlo. No tengo una preferencia clara entre estos dos enfoques: ser explícito es bueno, pero también lo es la brevedad.\n",
        "\n",
        "Una última cosa a tener en cuenta: si solo necesitas iterar sobre los elementos únicos inmediatamente, no es necesario volver a convertirlos a una lista. Esto funciona bien:"
      ],
      "metadata": {
        "id": "YcxsWm-XyyBe"
      }
    },
    {
      "cell_type": "code",
      "source": [
        "for color in dict.fromkeys(all_colors):\n",
        "    print(color)"
      ],
      "metadata": {
        "colab": {
          "base_uri": "https://localhost:8080/"
        },
        "id": "JHuyxe-Pyz2-",
        "outputId": "21ed576e-968d-4f33-c8df-54dc74b5f040"
      },
      "execution_count": null,
      "outputs": [
        {
          "output_type": "stream",
          "name": "stdout",
          "text": [
            "blue\n",
            "purple\n",
            "green\n",
            "red\n",
            "pink\n"
          ]
        }
      ]
    },
    {
      "cell_type": "markdown",
      "source": [
        "Esto funciona porque todas las formas de iteración son las mismas en Python: ya sea que uses el constructor de lista, un bucle for o una comprensión de lista, todo funciona de la misma manera."
      ],
      "metadata": {
        "id": "X-wHH0XWy9Y8"
      }
    },
    {
      "cell_type": "markdown",
      "source": [
        "## Evite usar listas para desduplicar\n",
        "Quizás se pregunte si una lista y un bucle for funcionarían bien para desduplicar."
      ],
      "metadata": {
        "id": "vh4J5gKLzHzS"
      }
    },
    {
      "cell_type": "code",
      "source": [
        "unique_colors = []\n",
        "for color in all_colors:\n",
        "    if color not in unique_colors:\n",
        "        unique_colors.append(color)\n",
        "\n",
        "unique_colors"
      ],
      "metadata": {
        "colab": {
          "base_uri": "https://localhost:8080/"
        },
        "id": "J6YOUiihzBOj",
        "outputId": "d8f38c31-8fd3-46eb-a1ef-7424e88746d6"
      },
      "execution_count": null,
      "outputs": [
        {
          "output_type": "execute_result",
          "data": {
            "text/plain": [
              "['blue', 'purple', 'green', 'red', 'pink']"
            ]
          },
          "metadata": {},
          "execution_count": 18
        }
      ]
    },
    {
      "cell_type": "markdown",
      "source": [
        "Esto funciona, pero si tiene muchos valores para deduplicar, podría ser muy lento, ya que el operador in en listas es considerablemente más lento que en conjuntos. Observe las comprobaciones de contención de listas para obtener más información."
      ],
      "metadata": {
        "id": "Pv4igyEX03Mw"
      }
    }
  ]
}