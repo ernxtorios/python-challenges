{
  "nbformat": 4,
  "nbformat_minor": 0,
  "metadata": {
    "colab": {
      "provenance": [],
      "authorship_tag": "ABX9TyNqCEg46XX0eUtw9kc0CIV3",
      "include_colab_link": true
    },
    "kernelspec": {
      "name": "python3",
      "display_name": "Python 3"
    },
    "language_info": {
      "name": "python"
    },
    "gpuClass": "standard"
  },
  "cells": [
    {
      "cell_type": "markdown",
      "metadata": {
        "id": "view-in-github",
        "colab_type": "text"
      },
      "source": [
        "<a href=\"https://colab.research.google.com/github/ernxtorios/python-challenges/blob/main/dict_zip_lists.ipynb\" target=\"_parent\"><img src=\"https://colab.research.google.com/assets/colab-badge.svg\" alt=\"Open In Colab\"/></a>"
      ]
    },
    {
      "cell_type": "code",
      "execution_count": null,
      "metadata": {
        "id": "BuCOxXQd69Yq",
        "colab": {
          "base_uri": "https://localhost:8080/"
        },
        "outputId": "564a80ef-fd0a-4f1a-b1f6-6feae3f06c3f"
      },
      "outputs": [
        {
          "output_type": "execute_result",
          "data": {
            "text/plain": [
              "{1: 'one', 2: 'two', 3: 'three'}"
            ]
          },
          "metadata": {},
          "execution_count": 1
        }
      ],
      "source": [
        "list1 = [1, 2, 3]\n",
        "list2 = ['one', 'two', 'three']\n",
        "\n",
        "dict(zip(list1, list2))"
      ]
    },
    {
      "cell_type": "code",
      "source": [
        "# Swapping variables without a temp variable\n",
        "a, b = 1, 2\n",
        "a, b = b, a\n",
        "\n",
        "a, b"
      ],
      "metadata": {
        "colab": {
          "base_uri": "https://localhost:8080/"
        },
        "id": "wc-2q5ZtEwfY",
        "outputId": "96d8fb01-80b7-493c-b6d0-777bcd4b8282"
      },
      "execution_count": null,
      "outputs": [
        {
          "output_type": "execute_result",
          "data": {
            "text/plain": [
              "(2, 1)"
            ]
          },
          "metadata": {},
          "execution_count": 2
        }
      ]
    },
    {
      "cell_type": "code",
      "source": [
        "import numpy as np\n",
        "\n",
        "np.random.rand(5, 2)"
      ],
      "metadata": {
        "colab": {
          "base_uri": "https://localhost:8080/"
        },
        "id": "Xnf3xgcbFQxr",
        "outputId": "e688c6a6-7cc8-4542-b4e0-abe88d9450b3"
      },
      "execution_count": null,
      "outputs": [
        {
          "output_type": "execute_result",
          "data": {
            "text/plain": [
              "array([[0.53632266, 0.10947533],\n",
              "       [0.37953095, 0.40706998],\n",
              "       [0.92455902, 0.56336392],\n",
              "       [0.62420686, 0.00230059],\n",
              "       [0.5827333 , 0.23858495]])"
            ]
          },
          "metadata": {},
          "execution_count": 3
        }
      ]
    },
    {
      "cell_type": "code",
      "source": [
        "import webbrowser\n",
        "\n",
        "webbrowser.open('https://www.google.com')"
      ],
      "metadata": {
        "colab": {
          "base_uri": "https://localhost:8080/"
        },
        "id": "VvYcrE-1FsWI",
        "outputId": "2a1d1e3c-ab68-40b2-a848-e95fbf9c97de"
      },
      "execution_count": 2,
      "outputs": [
        {
          "output_type": "execute_result",
          "data": {
            "text/plain": [
              "False"
            ]
          },
          "metadata": {},
          "execution_count": 2
        }
      ]
    },
    {
      "cell_type": "code",
      "source": [
        "palabra = 'murcielago'\n",
        "vocales = ('a', 'e', 'i', 'o', 'u')\n",
        "cantidad_vocales = 0\n",
        "\n",
        "for vocal in palabra:\n",
        "  if vocal in vocales:\n",
        "    print(vocal)\n",
        "    cantidad_vocales += 1\n",
        "  else:\n",
        "    continue\n",
        "\n",
        "cantidad_vocales"
      ],
      "metadata": {
        "colab": {
          "base_uri": "https://localhost:8080/"
        },
        "id": "LdxX2iwuGoAi",
        "outputId": "e8ed87f6-a3a6-4db8-92b5-591032ee3745"
      },
      "execution_count": 4,
      "outputs": [
        {
          "output_type": "stream",
          "name": "stdout",
          "text": [
            "u\n",
            "i\n",
            "e\n",
            "a\n",
            "o\n"
          ]
        },
        {
          "output_type": "execute_result",
          "data": {
            "text/plain": [
              "5"
            ]
          },
          "metadata": {},
          "execution_count": 4
        }
      ]
    }
  ]
}