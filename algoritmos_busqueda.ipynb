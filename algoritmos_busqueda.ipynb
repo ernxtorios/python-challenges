{
  "nbformat": 4,
  "nbformat_minor": 0,
  "metadata": {
    "colab": {
      "provenance": [],
      "authorship_tag": "ABX9TyPHuz8TW9910jD3xRBLqmbr",
      "include_colab_link": true
    },
    "kernelspec": {
      "name": "python3",
      "display_name": "Python 3"
    },
    "language_info": {
      "name": "python"
    },
    "gpuClass": "standard"
  },
  "cells": [
    {
      "cell_type": "markdown",
      "metadata": {
        "id": "view-in-github",
        "colab_type": "text"
      },
      "source": [
        "<a href=\"https://colab.research.google.com/github/ernxtorios/python-challenges/blob/main/algoritmos_busqueda.ipynb\" target=\"_parent\"><img src=\"https://colab.research.google.com/assets/colab-badge.svg\" alt=\"Open In Colab\"/></a>"
      ]
    },
    {
      "cell_type": "code",
      "source": [
        "developer = 'Ernesto Segundo'\n",
        "city = 'Moyobamba'\n",
        "\n",
        "print(f'Python developer {developer}, from {city}')"
      ],
      "metadata": {
        "colab": {
          "base_uri": "https://localhost:8080/"
        },
        "id": "uMEowuNmDNLp",
        "outputId": "cd1ed772-9f68-49d0-be25-9fa6ddaf71b9"
      },
      "execution_count": null,
      "outputs": [
        {
          "output_type": "stream",
          "name": "stdout",
          "text": [
            "Python developer Ernesto Segundo, from Moyobamba\n"
          ]
        }
      ]
    },
    {
      "cell_type": "code",
      "source": [
        "# Algoritmo: Enumeración exhaustiva\n",
        "objetivo = int(input('Escoge un entero: '))\n",
        "respuesta = 0\n",
        "\n",
        "while respuesta**2 < objetivo:\n",
        "    print(respuesta)\n",
        "    respuesta += 1\n",
        "\n",
        "if respuesta**2 == objetivo:\n",
        "    print(f'La raiz cuadrada de {objetivo} es {respuesta}')\n",
        "else:\n",
        "    print(f'{objetivo} no tiene una raiz cuadrada exacta')"
      ],
      "metadata": {
        "id": "K4_qj5PjNGND",
        "colab": {
          "base_uri": "https://localhost:8080/"
        },
        "outputId": "67c60cbb-eb24-4946-a50c-f356f4af6850"
      },
      "execution_count": null,
      "outputs": [
        {
          "output_type": "stream",
          "name": "stdout",
          "text": [
            "Escoge un entero: 2\n",
            "0\n",
            "1\n",
            "2 no tiene una raiz cuadrada exacta\n"
          ]
        }
      ]
    },
    {
      "cell_type": "code",
      "source": [
        "# Algoritmo: Aproximación de soluciones\n",
        "objetivo = int(input('Escoge un numero: '))\n",
        "epsilon = 0.0001\n",
        "paso = epsilon**2\n",
        "respuesta = 0.0\n",
        "\n",
        "while abs(respuesta**2 - objetivo) >= epsilon and respuesta <= objetivo:\n",
        "    print(abs(respuesta**2 - objetivo), respuesta)\n",
        "    respuesta += paso\n",
        "\n",
        "if abs(respuesta**2 - objetivo) >= epsilon:\n",
        "    print(f'No se encontro la raiz cuadrada {objetivo}')\n",
        "else:\n",
        "    print(f'La raiz cudrada de {objetivo} es {respuesta}')"
      ],
      "metadata": {
        "id": "qd1Weg18ZEWM"
      },
      "execution_count": null,
      "outputs": []
    },
    {
      "cell_type": "code",
      "source": [
        "# Algoritmo: Búsqueda binaria\n",
        "objetivo = int(input('Escoge un numero: '))\n",
        "epsilon = 0.001\n",
        "bajo = 0.0\n",
        "alto = max(1.0, objetivo)\n",
        "respuesta = (alto + bajo) / 2\n",
        "\n",
        "while abs(respuesta**2 - objetivo) >= epsilon:\n",
        "    print(f'bajo={bajo}, alto={alto}, respuesta={respuesta}')\n",
        "    if respuesta**2 < objetivo:\n",
        "        bajo = respuesta\n",
        "    else:\n",
        "        alto = respuesta\n",
        "\n",
        "    respuesta = (alto + bajo) / 2\n",
        "\n",
        "print(f'La raiz cuadrada de {objetivo} es {respuesta}')"
      ],
      "metadata": {
        "colab": {
          "base_uri": "https://localhost:8080/"
        },
        "id": "dD5ykN0Ndm7n",
        "outputId": "bb7e86d6-608b-46d7-e6b6-538b3afc86e2"
      },
      "execution_count": null,
      "outputs": [
        {
          "output_type": "stream",
          "name": "stdout",
          "text": [
            "Escoge un numero: 144\n",
            "bajo=0.0, alto=144, respuesta=72.0\n",
            "bajo=0.0, alto=72.0, respuesta=36.0\n",
            "bajo=0.0, alto=36.0, respuesta=18.0\n",
            "bajo=0.0, alto=18.0, respuesta=9.0\n",
            "bajo=9.0, alto=18.0, respuesta=13.5\n",
            "bajo=9.0, alto=13.5, respuesta=11.25\n",
            "bajo=11.25, alto=13.5, respuesta=12.375\n",
            "bajo=11.25, alto=12.375, respuesta=11.8125\n",
            "bajo=11.8125, alto=12.375, respuesta=12.09375\n",
            "bajo=11.8125, alto=12.09375, respuesta=11.953125\n",
            "bajo=11.953125, alto=12.09375, respuesta=12.0234375\n",
            "bajo=11.953125, alto=12.0234375, respuesta=11.98828125\n",
            "bajo=11.98828125, alto=12.0234375, respuesta=12.005859375\n",
            "bajo=11.98828125, alto=12.005859375, respuesta=11.9970703125\n",
            "bajo=11.9970703125, alto=12.005859375, respuesta=12.00146484375\n",
            "bajo=11.9970703125, alto=12.00146484375, respuesta=11.999267578125\n",
            "bajo=11.999267578125, alto=12.00146484375, respuesta=12.0003662109375\n",
            "bajo=11.999267578125, alto=12.0003662109375, respuesta=11.99981689453125\n",
            "bajo=11.99981689453125, alto=12.0003662109375, respuesta=12.000091552734375\n",
            "bajo=11.99981689453125, alto=12.000091552734375, respuesta=11.999954223632812\n",
            "La raiz cuadrada de 144 es 12.000022888183594\n"
          ]
        }
      ]
    },
    {
      "cell_type": "markdown",
      "source": [
        "# Recursos\n",
        "https://docs.python.org/es/3.9/library/functions.html\n",
        "\n",
        "http://runest.ing.puc.cl/"
      ],
      "metadata": {
        "id": "fUVzT4kGwwQN"
      }
    }
  ]
}