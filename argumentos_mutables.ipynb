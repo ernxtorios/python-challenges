{
  "nbformat": 4,
  "nbformat_minor": 0,
  "metadata": {
    "colab": {
      "provenance": [],
      "authorship_tag": "ABX9TyM5TUE5fj9yItxBoA3JDSRL",
      "include_colab_link": true
    },
    "kernelspec": {
      "name": "python3",
      "display_name": "Python 3"
    },
    "language_info": {
      "name": "python"
    }
  },
  "cells": [
    {
      "cell_type": "markdown",
      "metadata": {
        "id": "view-in-github",
        "colab_type": "text"
      },
      "source": [
        "<a href=\"https://colab.research.google.com/github/ernxtorios/python-challenges/blob/main/argumentos_mutables.ipynb\" target=\"_parent\"><img src=\"https://colab.research.google.com/assets/colab-badge.svg\" alt=\"Open In Colab\"/></a>"
      ]
    },
    {
      "cell_type": "markdown",
      "source": [
        "# Tip de Python: cuidado con los argumentos mutables\n",
        "Usar un objeto mutable como argumento predeterminado de una función puede ser problemático. Sin embargo, la mayoría de las veces, los argumentos predeterminados mutables de una función son, en realidad, una pista falsa.\n",
        "\n",
        "El verdadero problema suele ser una combinación de dos trampas superpuestas:\n",
        "- Valores compartidos de los argumentos predeterminados\n",
        "- Almacenamiento de argumentos para su uso posterior\n",
        "\n",
        "## El problema con los argumentos predeterminados mutables\n",
        "\n",
        "Por ejemplo, considere esta clase:"
      ],
      "metadata": {
        "id": "Hlt0aW2KHLyQ"
      }
    },
    {
      "cell_type": "code",
      "execution_count": null,
      "metadata": {
        "id": "KitE7nND_cfj"
      },
      "outputs": [],
      "source": [
        "class TodoList:\n",
        "    def __init__(self, tasks=[]):\n",
        "        self.tasks = tasks\n",
        "\n",
        "    def add_task(self, task):\n",
        "        self.tasks.append(task)"
      ]
    },
    {
      "cell_type": "markdown",
      "source": [
        "Digamos que creamos dos instancias de esta clase:"
      ],
      "metadata": {
        "id": "h8qjlfouHl_x"
      }
    },
    {
      "cell_type": "code",
      "source": [
        "mon = TodoList()\n",
        "tue = TodoList()"
      ],
      "metadata": {
        "id": "CqLujaR5Hym8"
      },
      "execution_count": null,
      "outputs": []
    },
    {
      "cell_type": "markdown",
      "source": [
        "Y luego mutamos el valor de la lista de tareas en una de estas dos instancias:"
      ],
      "metadata": {
        "id": "yIx_2KkAIO_Y"
      }
    },
    {
      "cell_type": "code",
      "source": [
        "mon.add_task(\"Work on Python exercise\")"
      ],
      "metadata": {
        "id": "YH6hNqNXIRqA"
      },
      "execution_count": null,
      "outputs": []
    },
    {
      "cell_type": "markdown",
      "source": [
        "¡Veremos que la lista de tareas cambia en ambas instancias!"
      ],
      "metadata": {
        "id": "2-f6fWDjIjxY"
      }
    },
    {
      "cell_type": "code",
      "source": [
        "mon.tasks"
      ],
      "metadata": {
        "colab": {
          "base_uri": "https://localhost:8080/"
        },
        "id": "DHGmGP3TIhyd",
        "outputId": "b992bf83-5980-49bd-e3dd-c127fb7cfcdc"
      },
      "execution_count": null,
      "outputs": [
        {
          "output_type": "execute_result",
          "data": {
            "text/plain": [
              "['Work on Python exercise']"
            ]
          },
          "metadata": {},
          "execution_count": 4
        }
      ]
    },
    {
      "cell_type": "code",
      "source": [
        "tue.tasks"
      ],
      "metadata": {
        "colab": {
          "base_uri": "https://localhost:8080/"
        },
        "id": "D0Bi4PXJIp0b",
        "outputId": "89567046-6251-4f20-8da5-fd0239f1f76d"
      },
      "execution_count": null,
      "outputs": [
        {
          "output_type": "execute_result",
          "data": {
            "text/plain": [
              "['Work on Python exercise']"
            ]
          },
          "metadata": {},
          "execution_count": 5
        }
      ]
    },
    {
      "cell_type": "markdown",
      "source": [
        "Esto sucede porque los valores predeterminados se evalúan al definir una función, no al llamarla.\n",
        "\n",
        "De hecho, incluso podemos ver los valores predeterminados de los argumentos asociados a una función observando ciertos atributos dunder en ese objeto de función:"
      ],
      "metadata": {
        "id": "v2OHsyDkI0gN"
      }
    },
    {
      "cell_type": "code",
      "source": [
        "TodoList.__init__.__defaults__"
      ],
      "metadata": {
        "colab": {
          "base_uri": "https://localhost:8080/"
        },
        "id": "QT_7ubDyI6J_",
        "outputId": "63e4ee10-9b9d-4838-af37-2efd270f9d5d"
      },
      "execution_count": null,
      "outputs": [
        {
          "output_type": "execute_result",
          "data": {
            "text/plain": [
              "(['Work on Python exercise'],)"
            ]
          },
          "metadata": {},
          "execution_count": 6
        }
      ]
    },
    {
      "cell_type": "markdown",
      "source": [
        "Pero los argumentos predeterminados no son el único problema relacionado con los argumentos que experimentamos.\n",
        "\n",
        "El otro problema es que hemos almacenado el valor de un objeto mutable que se pasó a nuestra clase."
      ],
      "metadata": {
        "id": "TDPywQBlJvOA"
      }
    },
    {
      "cell_type": "markdown",
      "source": [
        "## Aceptación y almacenamiento de argumentos mutables\n",
        "\n",
        "Aquí tenemos una lista que se pasa a dos instancias diferentes de la clase TodoList:"
      ],
      "metadata": {
        "id": "7M0BaSEfJ_IV"
      }
    },
    {
      "cell_type": "code",
      "source": [
        "initial_tasks = ['Watch Python screencast', 'brush teeth']\n",
        "mon = TodoList(initial_tasks)\n",
        "tue = TodoList(initial_tasks)"
      ],
      "metadata": {
        "id": "MNanMkthJwr_"
      },
      "execution_count": null,
      "outputs": []
    },
    {
      "cell_type": "markdown",
      "source": [
        "Luego modificamos la lista de tareas en uno de esos objetos:"
      ],
      "metadata": {
        "id": "mY75wgagKRqa"
      }
    },
    {
      "cell_type": "code",
      "source": [
        "mon.add_task(\"Work on Python exercise\")"
      ],
      "metadata": {
        "id": "c6ehRPIbKXcS"
      },
      "execution_count": null,
      "outputs": []
    },
    {
      "cell_type": "markdown",
      "source": [
        "Eso modifica la lista de tareas en ese objeto... ¡y en el otro objeto!"
      ],
      "metadata": {
        "id": "aKn_i4JwKj2V"
      }
    },
    {
      "cell_type": "code",
      "source": [
        "mon.tasks"
      ],
      "metadata": {
        "colab": {
          "base_uri": "https://localhost:8080/"
        },
        "id": "O9JWCP7CKlCy",
        "outputId": "2667d11d-952f-4ed4-c80d-19349d6a908c"
      },
      "execution_count": null,
      "outputs": [
        {
          "output_type": "execute_result",
          "data": {
            "text/plain": [
              "['Watch Python screencast', 'brush teeth', 'Work on Python exercise']"
            ]
          },
          "metadata": {},
          "execution_count": 9
        }
      ]
    },
    {
      "cell_type": "code",
      "source": [
        "tue.tasks"
      ],
      "metadata": {
        "colab": {
          "base_uri": "https://localhost:8080/"
        },
        "id": "u2aYP30yKpEg",
        "outputId": "89427e22-7f4b-4457-d1c0-315c062bd848"
      },
      "execution_count": null,
      "outputs": [
        {
          "output_type": "execute_result",
          "data": {
            "text/plain": [
              "['Watch Python screencast', 'brush teeth', 'Work on Python exercise']"
            ]
          },
          "metadata": {},
          "execution_count": 10
        }
      ]
    },
    {
      "cell_type": "markdown",
      "source": [
        "Esto sucede porque los atributos no pueden contener objetos en Python; solo apuntan a objetos.\n",
        "\n",
        "Por lo tanto, no son sólo los valores de argumento predeterminados mutables los que pueden causar problemas, sino cualquier valor de argumento mutable."
      ],
      "metadata": {
        "id": "7yr9JXCTK1EU"
      }
    },
    {
      "cell_type": "markdown",
      "source": [
        "## Considera el uso de argumentos de tu clase/función.\n",
        "\n",
        "¿Estás mutando un argumento proporcionado a tu función? Asegúrate de que quede claro para quienes la usan.\n",
        "\n",
        "¿Almacenas un argumento proporcionado y luego lo mutas (por ejemplo, mediante métodos en una clase)? Quizás quieras copiar el objeto dado. Sin embargo, si estás implementando una especie de clase \"proxy\" o \"vista\" que envuelve otro objeto, definitivamente no querrás copiar el argumento, ya que envolver un objeto requiere una referencia a ese objeto, no una copia."
      ],
      "metadata": {
        "id": "D8h4L1LALGf1"
      }
    }
  ]
}