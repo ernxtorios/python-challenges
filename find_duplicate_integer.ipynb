{
  "nbformat": 4,
  "nbformat_minor": 0,
  "metadata": {
    "colab": {
      "provenance": [],
      "authorship_tag": "ABX9TyOpOVHaPX4ueQAdR5X9NUbD",
      "include_colab_link": true
    },
    "kernelspec": {
      "name": "python3",
      "display_name": "Python 3"
    },
    "language_info": {
      "name": "python"
    }
  },
  "cells": [
    {
      "cell_type": "markdown",
      "metadata": {
        "id": "view-in-github",
        "colab_type": "text"
      },
      "source": [
        "<a href=\"https://colab.research.google.com/github/ernxtorios/python-challenges/blob/main/find_duplicate_integer.ipynb\" target=\"_parent\"><img src=\"https://colab.research.google.com/assets/colab-badge.svg\" alt=\"Open In Colab\"/></a>"
      ]
    },
    {
      "cell_type": "markdown",
      "source": [
        "In the Python file, you are provided with a function named find_duplicate_integer which takes a list of integers from 1 to n as its argument. This list contains n + 1 integers, implying one duplicate.\n",
        "\n",
        "Your task is to modify the function to return the duplicated integer from the list. The starter code has two logical errors that needs to be corrected.\n",
        "\n",
        "Example Input\n",
        "\n",
        "[1, 3, 4, 2, 2]\n",
        "\n",
        "Example Output\n",
        "\n",
        "2"
      ],
      "metadata": {
        "id": "UxJSOQ-et_MA"
      }
    },
    {
      "cell_type": "code",
      "execution_count": null,
      "metadata": {
        "colab": {
          "base_uri": "https://localhost:8080/"
        },
        "id": "7e905dJLt5_W",
        "outputId": "07da9054-692d-4689-abe3-bef9b8c92406"
      },
      "outputs": [
        {
          "output_type": "stream",
          "name": "stdout",
          "text": [
            "2\n"
          ]
        }
      ],
      "source": [
        "def find_duplicate_integer(integers):\n",
        "  # Conjunto\n",
        "  integers_set = set()\n",
        "  # Lista de duplicados\n",
        "  duplicates = []\n",
        "\n",
        "  for item in integers:\n",
        "    if item in integers_set:\n",
        "      # Añadimos a la lista de duplicados los numeros convertidos a cadena\n",
        "      duplicates.append(str(item))\n",
        "    else:\n",
        "      integers_set.add(item)\n",
        "\n",
        "  # Convertimos la lista de duplicados a una cadena separados por un espacio\n",
        "  result = \" \".join(duplicates)\n",
        "\n",
        "  return result\n",
        "\n",
        "# do not modify the values below\n",
        "print(find_duplicate_integer([1, 3, 4, 2, 2]))"
      ]
    }
  ]
}