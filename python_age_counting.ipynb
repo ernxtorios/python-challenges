{
  "nbformat": 4,
  "nbformat_minor": 0,
  "metadata": {
    "colab": {
      "provenance": [],
      "authorship_tag": "ABX9TyMfv0sYKvngYnZWVKMZ0M4z",
      "include_colab_link": true
    },
    "kernelspec": {
      "name": "python3",
      "display_name": "Python 3"
    },
    "language_info": {
      "name": "python"
    }
  },
  "cells": [
    {
      "cell_type": "markdown",
      "metadata": {
        "id": "view-in-github",
        "colab_type": "text"
      },
      "source": [
        "<a href=\"https://colab.research.google.com/github/ernxtorios/python-challenges/blob/main/python_age_counting.ipynb\" target=\"_parent\"><img src=\"https://colab.research.google.com/assets/colab-badge.svg\" alt=\"Open In Colab\"/></a>"
      ]
    },
    {
      "cell_type": "markdown",
      "source": [
        "In the Python file, write a program to perform a GET request on the route https://coderbyte.com/api/challenges/json/age-counting which contains a data key and the value is a string which contains items in the format: key=STRING, age=INTEGER. Your goal is to count how many items exist that have an age equal to or greater than 50, and print this final value.\n"
      ],
      "metadata": {
        "id": "Pi1B8bE2hEuN"
      }
    },
    {
      "cell_type": "code",
      "source": [
        "import requests\n",
        "import numpy as np\n",
        "import pandas as pd\n",
        "\n",
        "r = requests.get('https://coderbyte.com/api/challenges/json/age-counting')\n",
        "\n",
        "print(f\"Total de registros: {len(r.json()['data'])}\")\n",
        "\n",
        "# Los datos están en una cadena de texto de la forma\n",
        "# key=IAfpK, age=58, key=WNVdi, age=64, ...\n",
        "data = r.json()['data']\n",
        "\n",
        "# Obtener un diccionario a partir de los datos iniciales\n",
        "# {'key': ['IAfpK', 'WNVdi', ...], 'age': ['58', '64', ...]}\n",
        "def diccionario_datos(datos):\n",
        "  data_dict = {}\n",
        "\n",
        "  # Dividir la cadena en una lista de subcadenas\n",
        "  # Resultado: ['key=IAfpK', 'age=58', 'key=WNVdi', 'age=64', ...]\n",
        "  lista_datos = datos.split(\", \")\n",
        "\n",
        "  for elemento in lista_datos:\n",
        "    # Dividir cada subcadena en una lista de otras subcadenas\n",
        "    # Resultados por iteración:\n",
        "    # ['key', 'IAfpK']\n",
        "    # ['age', '58']\n",
        "    # ['key', 'WNVdi']\n",
        "    # ['age', '64']\n",
        "    # ...\n",
        "    clave, valor = elemento.split(\"=\")\n",
        "\n",
        "    if clave in data_dict:\n",
        "      # Si el valor de la clave no es una lista\n",
        "      # Entonces redefine el diccionario con la forma\n",
        "      # { clave: [valor] }\n",
        "      # Es decir, transforma el valor asociado a la clave, en una lista\n",
        "      # Luego agrega el valor a la lista asociada a la clave\n",
        "      if not isinstance(data_dict[clave], list):\n",
        "        data_dict[clave] = [data_dict[clave]]\n",
        "      data_dict[clave].append(valor)\n",
        "    else:\n",
        "      # Agrega un elemento al diccionario\n",
        "      # { clave: valor }\n",
        "      data_dict[clave] = valor\n",
        "\n",
        "  return data_dict\n",
        "\n",
        "# Dataframe pandas con los datos del diccionario\n",
        "df = pd.DataFrame(diccionario_datos(data))\n",
        "\n",
        "# Filtro de datos, con la edad convertida a entero\n",
        "df_result = df[df[\"age\"].astype(int) >= 50]\n",
        "\n",
        "# Resultados\n",
        "print(f\"Registros con edades mayores o iguales a 50: {df_result['age'].count()}\")\n",
        "\n",
        "print(df_result)"
      ],
      "metadata": {
        "colab": {
          "base_uri": "https://localhost:8080/"
        },
        "id": "Wa-zQtfNhI2g",
        "outputId": "8d556b44-040a-42ee-cfeb-c710d9979e1a"
      },
      "execution_count": null,
      "outputs": [
        {
          "output_type": "stream",
          "name": "stdout",
          "text": [
            "Total de registros: 5660\n",
            "Registros con edades mayores o iguales a 50: 128\n",
            "       key age\n",
            "0    IAfpK  58\n",
            "1    WNVdi  64\n",
            "3    0Sr4C  68\n",
            "4    CGEqo  76\n",
            "5    IxKVQ  79\n",
            "..     ...  ..\n",
            "284  hF1kt  78\n",
            "290  ExutD  82\n",
            "291  YOSNP  53\n",
            "294  fGTSM  60\n",
            "296  0iJGV  50\n",
            "\n",
            "[128 rows x 2 columns]\n"
          ]
        }
      ]
    }
  ]
}